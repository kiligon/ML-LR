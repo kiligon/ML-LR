{
 "cells": [
  {
   "cell_type": "markdown",
   "id": "0fc3e104",
   "metadata": {
    "id": "0fc3e104"
   },
   "source": [
    "# Лабораторная работа 2. Линейная регрессия и регуляризация."
   ]
  },
  {
   "cell_type": "code",
   "execution_count": 2,
   "id": "f0aac26c",
   "metadata": {},
   "outputs": [
    {
     "name": "stdout",
     "output_type": "stream",
     "text": [
      "Collecting tabulate\n",
      "  Downloading tabulate-0.9.0-py3-none-any.whl (35 kB)\n",
      "Installing collected packages: tabulate\n",
      "Successfully installed tabulate-0.9.0\n"
     ]
    }
   ],
   "source": [
    "!pip install googledrivedownloader"
   ]
  },
  {
   "cell_type": "code",
   "execution_count": 3,
   "id": "baea3c9f",
   "metadata": {
    "executionInfo": {
     "elapsed": 294,
     "status": "ok",
     "timestamp": 1669501573590,
     "user": {
      "displayName": "I S",
      "userId": "07403076651589372897"
     },
     "user_tz": -180
    },
    "id": "baea3c9f"
   },
   "outputs": [],
   "source": [
    "import matplotlib.pyplot as plt\n",
    "import numpy as np\n",
    "import pandas as pd\n",
    "\n",
    "\n",
    "from sklearn.preprocessing import OneHotEncoder, StandardScaler, PolynomialFeatures\n",
    "from sklearn.impute import SimpleImputer\n",
    "from sklearn.feature_selection import SelectKBest\n",
    "from sklearn.compose import make_column_transformer\n",
    "from sklearn.pipeline import make_pipeline\n",
    "from sklearn.linear_model import LinearRegression, Ridge, Lasso, ElasticNet\n",
    "from sklearn.metrics import mean_squared_error\n",
    "from sklearn.model_selection import train_test_split\n",
    "\n",
    "from tabulate import tabulate\n",
    "\n",
    "from google_drive_downloader import GoogleDriveDownloader as gdd"
   ]
  },
  {
   "cell_type": "markdown",
   "id": "412f4705",
   "metadata": {
    "id": "412f4705"
   },
   "source": [
    "## Задание 1"
   ]
  },
  {
   "cell_type": "markdown",
   "id": "6a8f109a",
   "metadata": {
    "id": "6a8f109a"
   },
   "source": [
    "1. Для следующих данных постройте модель эстиматора с помощью полиномиальной регрессии. \n",
    "2. Подберите оптимальную степень полиномиальных базисных функций избегая переобучения.\n",
    "3. Визуализируйте процесс переобучения графически и с помощью подсчётов ошибки на обучающей выборке."
   ]
  },
  {
   "cell_type": "code",
   "execution_count": 4,
   "id": "de12b9c0",
   "metadata": {
    "colab": {
     "base_uri": "https://localhost:8080/",
     "height": 265
    },
    "executionInfo": {
     "elapsed": 362,
     "status": "ok",
     "timestamp": 1669500263696,
     "user": {
      "displayName": "I S",
      "userId": "07403076651589372897"
     },
     "user_tz": -180
    },
    "id": "de12b9c0",
    "outputId": "0f5ed887-0d56-4eaf-d539-476583fafbc6"
   },
   "outputs": [
    {
     "data": {
      "image/png": "[encoded data removed]",
      "text/plain": [
       "<Figure size 640x480 with 1 Axes>"
      ]
     },
     "metadata": {},
     "output_type": "display_data"
    }
   ],
   "source": [
    "rng = np.random.RandomState(42)\n",
    "x = 4 * rng.rand(50)\n",
    "y = np.sin(x) + np.cos(2*x) + x + 0.1 * rng.randn(50)\n",
    "plt.scatter(x, y);"
   ]
  },
  {
   "cell_type": "code",
   "execution_count": 5,
   "id": "d65f4261",
   "metadata": {
    "executionInfo": {
     "elapsed": 23,
     "status": "ok",
     "timestamp": 1669500263698,
     "user": {
      "displayName": "I S",
      "userId": "07403076651589372897"
     },
     "user_tz": -180
    },
    "id": "d65f4261"
   },
   "outputs": [],
   "source": [
    "poly_model = make_pipeline(PolynomialFeatures(5), LinearRegression())"
   ]
  },
  {
   "cell_type": "code",
   "execution_count": 6,
   "id": "f5be4f21",
   "metadata": {
    "colab": {
     "base_uri": "https://localhost:8080/"
    },
    "executionInfo": {
     "elapsed": 22,
     "status": "ok",
     "timestamp": 1669500263699,
     "user": {
      "displayName": "I S",
      "userId": "07403076651589372897"
     },
     "user_tz": -180
    },
    "id": "f5be4f21",
    "outputId": "27dd64de-b457-46d0-d5b4-84adeee4bac2"
   },
   "outputs": [
    {
     "data": {
      "text/html": [
       "<style>#sk-container-id-1 {color: black;background-color: white;}#sk-container-id-1 pre{padding: 0;}#sk-container-id-1 div.sk-toggleable {background-color: white;}#sk-container-id-1 label.sk-toggleable__label {cursor: pointer;display: block;width: 100%;margin-bottom: 0;padding: 0.3em;box-sizing: border-box;text-align: center;}#sk-container-id-1 label.sk-toggleable__label-arrow:before {content: \"▸\";float: left;margin-right: 0.25em;color: #696969;}#sk-container-id-1 label.sk-toggleable__label-arrow:hover:before {color: black;}#sk-container-id-1 div.sk-estimator:hover label.sk-toggleable__label-arrow:before {color: black;}#sk-container-id-1 div.sk-toggleable__content {max-height: 0;max-width: 0;overflow: hidden;text-align: left;background-color: #f0f8ff;}#sk-container-id-1 div.sk-toggleable__content pre {margin: 0.2em;color: black;border-radius: 0.25em;background-color: #f0f8ff;}#sk-container-id-1 input.sk-toggleable__control:checked~div.sk-toggleable__content {max-height: 200px;max-width: 100%;overflow: auto;}#sk-container-id-1 input.sk-toggleable__control:checked~label.sk-toggleable__label-arrow:before {content: \"▾\";}#sk-container-id-1 div.sk-estimator input.sk-toggleable__control:checked~label.sk-toggleable__label {background-color: #d4ebff;}#sk-container-id-1 div.sk-label input.sk-toggleable__control:checked~label.sk-toggleable__label {background-color: #d4ebff;}#sk-container-id-1 input.sk-hidden--visually {border: 0;clip: rect(1px 1px 1px 1px);clip: rect(1px, 1px, 1px, 1px);height: 1px;margin: -1px;overflow: hidden;padding: 0;position: absolute;width: 1px;}#sk-container-id-1 div.sk-estimator {font-family: monospace;background-color: #f0f8ff;border: 1px dotted black;border-radius: 0.25em;box-sizing: border-box;margin-bottom: 0.5em;}#sk-container-id-1 div.sk-estimator:hover {background-color: #d4ebff;}#sk-container-id-1 div.sk-parallel-item::after {content: \"\";width: 100%;border-bottom: 1px solid gray;flex-grow: 1;}#sk-container-id-1 div.sk-label:hover label.sk-toggleable__label {background-color: #d4ebff;}#sk-container-id-1 div.sk-serial::before {content: \"\";position: absolute;border-left: 1px solid gray;box-sizing: border-box;top: 0;bottom: 0;left: 50%;z-index: 0;}#sk-container-id-1 div.sk-serial {display: flex;flex-direction: column;align-items: center;background-color: white;padding-right: 0.2em;padding-left: 0.2em;position: relative;}#sk-container-id-1 div.sk-item {position: relative;z-index: 1;}#sk-container-id-1 div.sk-parallel {display: flex;align-items: stretch;justify-content: center;background-color: white;position: relative;}#sk-container-id-1 div.sk-item::before, #sk-container-id-1 div.sk-parallel-item::before {content: \"\";position: absolute;border-left: 1px solid gray;box-sizing: border-box;top: 0;bottom: 0;left: 50%;z-index: -1;}#sk-container-id-1 div.sk-parallel-item {display: flex;flex-direction: column;z-index: 1;position: relative;background-color: white;}#sk-container-id-1 div.sk-parallel-item:first-child::after {align-self: flex-end;width: 50%;}#sk-container-id-1 div.sk-parallel-item:last-child::after {align-self: flex-start;width: 50%;}#sk-container-id-1 div.sk-parallel-item:only-child::after {width: 0;}#sk-container-id-1 div.sk-dashed-wrapped {border: 1px dashed gray;margin: 0 0.4em 0.5em 0.4em;box-sizing: border-box;padding-bottom: 0.4em;background-color: white;}#sk-container-id-1 div.sk-label label {font-family: monospace;font-weight: bold;display: inline-block;line-height: 1.2em;}#sk-container-id-1 div.sk-label-container {text-align: center;}#sk-container-id-1 div.sk-container {/* jupyter's `normalize.less` sets `[hidden] { display: none; }` but bootstrap.min.css set `[hidden] { display: none !important; }` so we also need the `!important` here to be able to override the default hidden behavior on the sphinx rendered scikit-learn.org. See: https://github.com/scikit-learn/scikit-learn/issues/21755 */display: inline-block !important;position: relative;}#sk-container-id-1 div.sk-text-repr-fallback {display: none;}</style><div id=\"sk-container-id-1\" class=\"sk-top-container\"><div class=\"sk-text-repr-fallback\"><pre>Pipeline(steps=[(&#x27;polynomialfeatures&#x27;, PolynomialFeatures(degree=5)),\n",
       "                (&#x27;linearregression&#x27;, LinearRegression())])</pre><b>In a Jupyter environment, please rerun this cell to show the HTML representation or trust the notebook. <br />On GitHub, the HTML representation is unable to render, please try loading this page with nbviewer.org.</b></div><div class=\"sk-container\" hidden><div class=\"sk-item sk-dashed-wrapped\"><div class=\"sk-label-container\"><div class=\"sk-label sk-toggleable\"><input class=\"sk-toggleable__control sk-hidden--visually\" id=\"sk-estimator-id-1\" type=\"checkbox\" ><label for=\"sk-estimator-id-1\" class=\"sk-toggleable__label sk-toggleable__label-arrow\">Pipeline</label><div class=\"sk-toggleable__content\"><pre>Pipeline(steps=[(&#x27;polynomialfeatures&#x27;, PolynomialFeatures(degree=5)),\n",
       "                (&#x27;linearregression&#x27;, LinearRegression())])</pre></div></div></div><div class=\"sk-serial\"><div class=\"sk-item\"><div class=\"sk-estimator sk-toggleable\"><input class=\"sk-toggleable__control sk-hidden--visually\" id=\"sk-estimator-id-2\" type=\"checkbox\" ><label for=\"sk-estimator-id-2\" class=\"sk-toggleable__label sk-toggleable__label-arrow\">PolynomialFeatures</label><div class=\"sk-toggleable__content\"><pre>PolynomialFeatures(degree=5)</pre></div></div></div><div class=\"sk-item\"><div class=\"sk-estimator sk-toggleable\"><input class=\"sk-toggleable__control sk-hidden--visually\" id=\"sk-estimator-id-3\" type=\"checkbox\" ><label for=\"sk-estimator-id-3\" class=\"sk-toggleable__label sk-toggleable__label-arrow\">LinearRegression</label><div class=\"sk-toggleable__content\"><pre>LinearRegression()</pre></div></div></div></div></div></div></div>"
      ],
      "text/plain": [
       "Pipeline(steps=[('polynomialfeatures', PolynomialFeatures(degree=5)),\n",
       "                ('linearregression', LinearRegression())])"
      ]
     },
     "execution_count": 6,
     "metadata": {},
     "output_type": "execute_result"
    }
   ],
   "source": [
    "poly_model.fit(x.reshape(-1,1), y)"
   ]
  },
  {
   "cell_type": "code",
   "execution_count": 7,
   "id": "OchtX1gfwf1K",
   "metadata": {
    "executionInfo": {
     "elapsed": 19,
     "status": "ok",
     "timestamp": 1669500263701,
     "user": {
      "displayName": "I S",
      "userId": "07403076651589372897"
     },
     "user_tz": -180
    },
    "id": "OchtX1gfwf1K"
   },
   "outputs": [],
   "source": [
    "y_pred = poly_model.predict(np.linspace(0, 4, 100).reshape(-1, 1))"
   ]
  },
  {
   "cell_type": "markdown",
   "id": "r7WcMkJIyO5w",
   "metadata": {
    "id": "r7WcMkJIyO5w"
   },
   "source": [
    "2. Оптимальная степень 5"
   ]
  },
  {
   "cell_type": "code",
   "execution_count": 8,
   "id": "s5Aib84DxDDy",
   "metadata": {
    "colab": {
     "base_uri": "https://localhost:8080/",
     "height": 282
    },
    "executionInfo": {
     "elapsed": 476,
     "status": "ok",
     "timestamp": 1669500264159,
     "user": {
      "displayName": "I S",
      "userId": "07403076651589372897"
     },
     "user_tz": -180
    },
    "id": "s5Aib84DxDDy",
    "outputId": "11932cc7-dea9-4191-e1a4-bc731c4296a8"
   },
   "outputs": [
    {
     "data": {
      "text/plain": [
       "[<matplotlib.lines.Line2D at 0x7f446e632a10>]"
      ]
     },
     "execution_count": 8,
     "metadata": {},
     "output_type": "execute_result"
    },
    {
     "data": {
      "image/png": "[encoded data removed]",
      "text/plain": [
       "<Figure size 640x480 with 1 Axes>"
      ]
     },
     "metadata": {},
     "output_type": "display_data"
    }
   ],
   "source": [
    "plt.scatter(x, y)\n",
    "plt.plot(np.linspace(0, 4, 100), y_pred, color='r')"
   ]
  },
  {
   "cell_type": "markdown",
   "id": "VaXUNWRj1IVa",
   "metadata": {
    "id": "VaXUNWRj1IVa"
   },
   "source": [
    "3. Из визуализации ниже видно, что модель слишом плоно прохоит по все точкам выбоки. А средрняя квадратичная ошибка силшком маленькая что говорит о переобучении."
   ]
  },
  {
   "cell_type": "code",
   "execution_count": 9,
   "id": "yDb6qGIzyJcI",
   "metadata": {
    "executionInfo": {
     "elapsed": 12,
     "status": "ok",
     "timestamp": 1669500265508,
     "user": {
      "displayName": "I S",
      "userId": "07403076651589372897"
     },
     "user_tz": -180
    },
    "id": "yDb6qGIzyJcI"
   },
   "outputs": [],
   "source": [
    "poly_model_overfitting = make_pipeline(PolynomialFeatures(15), LinearRegression())\n",
    "poly_model_overfitting.fit(x.reshape(-1,1), y)\n",
    "y_pred = poly_model_overfitting.predict(np.linspace(0, 4, 100).reshape(-1, 1))"
   ]
  },
  {
   "cell_type": "code",
   "execution_count": 10,
   "id": "8cfwIHmd2A1O",
   "metadata": {
    "colab": {
     "base_uri": "https://localhost:8080/",
     "height": 282
    },
    "executionInfo": {
     "elapsed": 537,
     "status": "ok",
     "timestamp": 1669500266634,
     "user": {
      "displayName": "I S",
      "userId": "07403076651589372897"
     },
     "user_tz": -180
    },
    "id": "8cfwIHmd2A1O",
    "outputId": "ffc43519-6416-48f7-a8a6-4cb3dd4ca307"
   },
   "outputs": [
    {
     "data": {
      "text/plain": [
       "[<matplotlib.lines.Line2D at 0x7f446e50e440>]"
      ]
     },
     "execution_count": 10,
     "metadata": {},
     "output_type": "execute_result"
    },
    {
     "data": {
      "image/png": "[encoded data removed]",
      "text/plain": [
       "<Figure size 640x480 with 1 Axes>"
      ]
     },
     "metadata": {},
     "output_type": "display_data"
    }
   ],
   "source": [
    "plt.scatter(x, y)\n",
    "plt.plot(np.linspace(0, 4, 100), y_pred, color='r')"
   ]
  },
  {
   "cell_type": "code",
   "execution_count": 11,
   "id": "mX-jMmwA5S-O",
   "metadata": {
    "colab": {
     "base_uri": "https://localhost:8080/"
    },
    "executionInfo": {
     "elapsed": 274,
     "status": "ok",
     "timestamp": 1667821329374,
     "user": {
      "displayName": "Илья Степанов",
      "userId": "07403076651589372897"
     },
     "user_tz": -180
    },
    "id": "mX-jMmwA5S-O",
    "outputId": "97d2210f-2a3b-441e-84b3-adfd3e2fcc43"
   },
   "outputs": [
    {
     "data": {
      "text/plain": [
       "0.006453987144196184"
      ]
     },
     "execution_count": 11,
     "metadata": {},
     "output_type": "execute_result"
    }
   ],
   "source": [
    "mean_squared_error(poly_model_overfitting.predict(x.reshape(-1,1)), y)"
   ]
  },
  {
   "cell_type": "markdown",
   "id": "1d817f03",
   "metadata": {
    "id": "1d817f03"
   },
   "source": [
    "## Задание 2"
   ]
  },
  {
   "cell_type": "markdown",
   "id": "df70c203",
   "metadata": {
    "id": "df70c203"
   },
   "source": [
    "1. Постройте модель прогноза для данных из задания 1, используя модель регрессии с регуляризацией Ridge.\n",
    "2. Постройте модель прогноза для данных из задания 1, используя модель регрессии с регуляризацией Lasso.\n",
    "3. Постройте модель прогноза для данных из задания 1, используя модель регрессии с регуляризацией Elastic Net.\n",
    "4. Как изменяются коэффициенты w(i) функций регрессоров? Визуализируйте изменения коэффициентов для всех моделей из заданий 1 и 2."
   ]
  },
  {
   "cell_type": "code",
   "execution_count": 27,
   "id": "4dvYb2J_8_t6",
   "metadata": {
    "executionInfo": {
     "elapsed": 309,
     "status": "ok",
     "timestamp": 1669500269891,
     "user": {
      "displayName": "I S",
      "userId": "07403076651589372897"
     },
     "user_tz": -180
    },
    "id": "4dvYb2J_8_t6"
   },
   "outputs": [],
   "source": [
    "lasso_model = make_pipeline(PolynomialFeatures(10), Lasso(max_iter=6000)) \n",
    "ridge_model = make_pipeline(PolynomialFeatures(10), Ridge(max_iter=6000)) \n",
    "elastic_model =  make_pipeline(PolynomialFeatures(10), ElasticNet(alpha=0.5, max_iter=6000)) "
   ]
  },
  {
   "cell_type": "code",
   "execution_count": 28,
   "id": "fvnzp_NQ_wrq",
   "metadata": {
    "executionInfo": {
     "elapsed": 7,
     "status": "ok",
     "timestamp": 1669500271295,
     "user": {
      "displayName": "I S",
      "userId": "07403076651589372897"
     },
     "user_tz": -180
    },
    "id": "fvnzp_NQ_wrq"
   },
   "outputs": [],
   "source": [
    "x = 4 * rng.rand(50)\n",
    "y = np.sin(x) + np.cos(2*x) + x + 0.1 * rng.randn(50)"
   ]
  },
  {
   "cell_type": "code",
   "execution_count": 29,
   "id": "QZGrNuJeBE8y",
   "metadata": {
    "colab": {
     "base_uri": "https://localhost:8080/"
    },
    "executionInfo": {
     "elapsed": 334,
     "status": "ok",
     "timestamp": 1669500274234,
     "user": {
      "displayName": "I S",
      "userId": "07403076651589372897"
     },
     "user_tz": -180
    },
    "id": "QZGrNuJeBE8y",
    "outputId": "3db8b75b-c20d-4170-e871-7dfb7563445a"
   },
   "outputs": [
    {
     "name": "stderr",
     "output_type": "stream",
     "text": [
      "/home/ilya/study/ML/ML-LR/env/lib/python3.10/site-packages/sklearn/linear_model/_coordinate_descent.py:634: ConvergenceWarning: Objective did not converge. You might want to increase the number of iterations, check the scale of the features or consider increasing regularisation. Duality gap: 2.735e+00, tolerance: 5.076e-03\n",
      "  model = cd_fast.enet_coordinate_descent(\n",
      "/home/ilya/study/ML/ML-LR/env/lib/python3.10/site-packages/sklearn/linear_model/_coordinate_descent.py:634: ConvergenceWarning: Objective did not converge. You might want to increase the number of iterations, check the scale of the features or consider increasing regularisation. Duality gap: 1.632e+00, tolerance: 5.076e-03\n",
      "  model = cd_fast.enet_coordinate_descent(\n"
     ]
    },
    {
     "data": {
      "text/html": [
       "<style>#sk-container-id-5 {color: black;background-color: white;}#sk-container-id-5 pre{padding: 0;}#sk-container-id-5 div.sk-toggleable {background-color: white;}#sk-container-id-5 label.sk-toggleable__label {cursor: pointer;display: block;width: 100%;margin-bottom: 0;padding: 0.3em;box-sizing: border-box;text-align: center;}#sk-container-id-5 label.sk-toggleable__label-arrow:before {content: \"▸\";float: left;margin-right: 0.25em;color: #696969;}#sk-container-id-5 label.sk-toggleable__label-arrow:hover:before {color: black;}#sk-container-id-5 div.sk-estimator:hover label.sk-toggleable__label-arrow:before {color: black;}#sk-container-id-5 div.sk-toggleable__content {max-height: 0;max-width: 0;overflow: hidden;text-align: left;background-color: #f0f8ff;}#sk-container-id-5 div.sk-toggleable__content pre {margin: 0.2em;color: black;border-radius: 0.25em;background-color: #f0f8ff;}#sk-container-id-5 input.sk-toggleable__control:checked~div.sk-toggleable__content {max-height: 200px;max-width: 100%;overflow: auto;}#sk-container-id-5 input.sk-toggleable__control:checked~label.sk-toggleable__label-arrow:before {content: \"▾\";}#sk-container-id-5 div.sk-estimator input.sk-toggleable__control:checked~label.sk-toggleable__label {background-color: #d4ebff;}#sk-container-id-5 div.sk-label input.sk-toggleable__control:checked~label.sk-toggleable__label {background-color: #d4ebff;}#sk-container-id-5 input.sk-hidden--visually {border: 0;clip: rect(1px 1px 1px 1px);clip: rect(1px, 1px, 1px, 1px);height: 1px;margin: -1px;overflow: hidden;padding: 0;position: absolute;width: 1px;}#sk-container-id-5 div.sk-estimator {font-family: monospace;background-color: #f0f8ff;border: 1px dotted black;border-radius: 0.25em;box-sizing: border-box;margin-bottom: 0.5em;}#sk-container-id-5 div.sk-estimator:hover {background-color: #d4ebff;}#sk-container-id-5 div.sk-parallel-item::after {content: \"\";width: 100%;border-bottom: 1px solid gray;flex-grow: 1;}#sk-container-id-5 div.sk-label:hover label.sk-toggleable__label {background-color: #d4ebff;}#sk-container-id-5 div.sk-serial::before {content: \"\";position: absolute;border-left: 1px solid gray;box-sizing: border-box;top: 0;bottom: 0;left: 50%;z-index: 0;}#sk-container-id-5 div.sk-serial {display: flex;flex-direction: column;align-items: center;background-color: white;padding-right: 0.2em;padding-left: 0.2em;position: relative;}#sk-container-id-5 div.sk-item {position: relative;z-index: 1;}#sk-container-id-5 div.sk-parallel {display: flex;align-items: stretch;justify-content: center;background-color: white;position: relative;}#sk-container-id-5 div.sk-item::before, #sk-container-id-5 div.sk-parallel-item::before {content: \"\";position: absolute;border-left: 1px solid gray;box-sizing: border-box;top: 0;bottom: 0;left: 50%;z-index: -1;}#sk-container-id-5 div.sk-parallel-item {display: flex;flex-direction: column;z-index: 1;position: relative;background-color: white;}#sk-container-id-5 div.sk-parallel-item:first-child::after {align-self: flex-end;width: 50%;}#sk-container-id-5 div.sk-parallel-item:last-child::after {align-self: flex-start;width: 50%;}#sk-container-id-5 div.sk-parallel-item:only-child::after {width: 0;}#sk-container-id-5 div.sk-dashed-wrapped {border: 1px dashed gray;margin: 0 0.4em 0.5em 0.4em;box-sizing: border-box;padding-bottom: 0.4em;background-color: white;}#sk-container-id-5 div.sk-label label {font-family: monospace;font-weight: bold;display: inline-block;line-height: 1.2em;}#sk-container-id-5 div.sk-label-container {text-align: center;}#sk-container-id-5 div.sk-container {/* jupyter's `normalize.less` sets `[hidden] { display: none; }` but bootstrap.min.css set `[hidden] { display: none !important; }` so we also need the `!important` here to be able to override the default hidden behavior on the sphinx rendered scikit-learn.org. See: https://github.com/scikit-learn/scikit-learn/issues/21755 */display: inline-block !important;position: relative;}#sk-container-id-5 div.sk-text-repr-fallback {display: none;}</style><div id=\"sk-container-id-5\" class=\"sk-top-container\"><div class=\"sk-text-repr-fallback\"><pre>Pipeline(steps=[(&#x27;polynomialfeatures&#x27;, PolynomialFeatures(degree=10)),\n",
       "                (&#x27;elasticnet&#x27;, ElasticNet(alpha=0.5, max_iter=6000))])</pre><b>In a Jupyter environment, please rerun this cell to show the HTML representation or trust the notebook. <br />On GitHub, the HTML representation is unable to render, please try loading this page with nbviewer.org.</b></div><div class=\"sk-container\" hidden><div class=\"sk-item sk-dashed-wrapped\"><div class=\"sk-label-container\"><div class=\"sk-label sk-toggleable\"><input class=\"sk-toggleable__control sk-hidden--visually\" id=\"sk-estimator-id-13\" type=\"checkbox\" ><label for=\"sk-estimator-id-13\" class=\"sk-toggleable__label sk-toggleable__label-arrow\">Pipeline</label><div class=\"sk-toggleable__content\"><pre>Pipeline(steps=[(&#x27;polynomialfeatures&#x27;, PolynomialFeatures(degree=10)),\n",
       "                (&#x27;elasticnet&#x27;, ElasticNet(alpha=0.5, max_iter=6000))])</pre></div></div></div><div class=\"sk-serial\"><div class=\"sk-item\"><div class=\"sk-estimator sk-toggleable\"><input class=\"sk-toggleable__control sk-hidden--visually\" id=\"sk-estimator-id-14\" type=\"checkbox\" ><label for=\"sk-estimator-id-14\" class=\"sk-toggleable__label sk-toggleable__label-arrow\">PolynomialFeatures</label><div class=\"sk-toggleable__content\"><pre>PolynomialFeatures(degree=10)</pre></div></div></div><div class=\"sk-item\"><div class=\"sk-estimator sk-toggleable\"><input class=\"sk-toggleable__control sk-hidden--visually\" id=\"sk-estimator-id-15\" type=\"checkbox\" ><label for=\"sk-estimator-id-15\" class=\"sk-toggleable__label sk-toggleable__label-arrow\">ElasticNet</label><div class=\"sk-toggleable__content\"><pre>ElasticNet(alpha=0.5, max_iter=6000)</pre></div></div></div></div></div></div></div>"
      ],
      "text/plain": [
       "Pipeline(steps=[('polynomialfeatures', PolynomialFeatures(degree=10)),\n",
       "                ('elasticnet', ElasticNet(alpha=0.5, max_iter=6000))])"
      ]
     },
     "execution_count": 29,
     "metadata": {},
     "output_type": "execute_result"
    }
   ],
   "source": [
    "lasso_model.fit(x.reshape(-1,1), y)\n",
    "ridge_model.fit(x.reshape(-1,1), y)\n",
    "elastic_model.fit(x.reshape(-1,1), y)"
   ]
  },
  {
   "cell_type": "code",
   "execution_count": 30,
   "id": "LViFRhnGBPg7",
   "metadata": {
    "executionInfo": {
     "elapsed": 315,
     "status": "ok",
     "timestamp": 1669500276404,
     "user": {
      "displayName": "I S",
      "userId": "07403076651589372897"
     },
     "user_tz": -180
    },
    "id": "LViFRhnGBPg7"
   },
   "outputs": [],
   "source": [
    "lasso_coef = lasso_model._final_estimator.coef_\n",
    "ridge_coef = ridge_model._final_estimator.coef_\n",
    "elastic_coef = elastic_model._final_estimator.coef_"
   ]
  },
  {
   "cell_type": "code",
   "execution_count": 31,
   "id": "wGbIzef9GWII",
   "metadata": {
    "executionInfo": {
     "elapsed": 6,
     "status": "ok",
     "timestamp": 1669500277453,
     "user": {
      "displayName": "I S",
      "userId": "07403076651589372897"
     },
     "user_tz": -180
    },
    "id": "wGbIzef9GWII"
   },
   "outputs": [],
   "source": [
    "table = list(zip(lasso_coef, ridge_coef, elastic_coef))\n",
    "headers = [\"Lasso\", \"Ridge\", \"ElasticNet\"]"
   ]
  },
  {
   "cell_type": "code",
   "execution_count": 32,
   "id": "tvZDFG6aIBie",
   "metadata": {
    "colab": {
     "base_uri": "https://localhost:8080/"
    },
    "executionInfo": {
     "elapsed": 17,
     "status": "ok",
     "timestamp": 1669500278792,
     "user": {
      "displayName": "I S",
      "userId": "07403076651589372897"
     },
     "user_tz": -180
    },
    "id": "tvZDFG6aIBie",
    "outputId": "0ebb8e93-b3ee-4375-ad16-a3402d57c991"
   },
   "outputs": [
    {
     "data": {
      "text/plain": [
       "[(0.0, 0.0, 0.0),\n",
       " (0.0, 0.10891280205725859, 0.0),\n",
       " (0.0, -0.022203362280336716, 0.0),\n",
       " (0.0, -0.06830086757564001, 0.0),\n",
       " (0.0, -0.027854760524569387, 0.07339691250620244),\n",
       " (0.03493836505916199, 0.046676458178229456, 0.007810413915726516),\n",
       " (-0.0003206099918274157, 0.05850604531827954, -0.005048469293198223),\n",
       " (-0.002764418658580037, -0.029847704377155348, -0.0009656899067663278),\n",
       " (-0.00018217224042039185, -0.0025817997672398655, -4.7417835768780894e-05),\n",
       " (2.3376473686869983e-05, 0.0027021595735627333, 1.7704934388275302e-05),\n",
       " (1.7363405268360838e-05, -0.00030941849460022183, 9.474039894503458e-06)]"
      ]
     },
     "execution_count": 32,
     "metadata": {},
     "output_type": "execute_result"
    }
   ],
   "source": [
    "table"
   ]
  },
  {
   "cell_type": "code",
   "execution_count": 33,
   "id": "9FPFpnS9EX2m",
   "metadata": {
    "colab": {
     "base_uri": "https://localhost:8080/"
    },
    "executionInfo": {
     "elapsed": 329,
     "status": "ok",
     "timestamp": 1669500281854,
     "user": {
      "displayName": "I S",
      "userId": "07403076651589372897"
     },
     "user_tz": -180
    },
    "id": "9FPFpnS9EX2m",
    "outputId": "53917fa4-86e5-42db-9952-87192711de4a"
   },
   "outputs": [
    {
     "name": "stdout",
     "output_type": "stream",
     "text": [
      "+--------------+--------------+--------------+\n",
      "|        Lasso |        Ridge |   ElasticNet |\n",
      "+==============+==============+==============+\n",
      "|  0           |  0           |  0           |\n",
      "+--------------+--------------+--------------+\n",
      "|  0           |  0.108913    |  0           |\n",
      "+--------------+--------------+--------------+\n",
      "|  0           | -0.0222034   |  0           |\n",
      "+--------------+--------------+--------------+\n",
      "|  0           | -0.0683009   |  0           |\n",
      "+--------------+--------------+--------------+\n",
      "|  0           | -0.0278548   |  0.0733969   |\n",
      "+--------------+--------------+--------------+\n",
      "|  0.0349384   |  0.0466765   |  0.00781041  |\n",
      "+--------------+--------------+--------------+\n",
      "| -0.00032061  |  0.058506    | -0.00504847  |\n",
      "+--------------+--------------+--------------+\n",
      "| -0.00276442  | -0.0298477   | -0.00096569  |\n",
      "+--------------+--------------+--------------+\n",
      "| -0.000182172 | -0.0025818   | -4.74178e-05 |\n",
      "+--------------+--------------+--------------+\n",
      "|  2.33765e-05 |  0.00270216  |  1.77049e-05 |\n",
      "+--------------+--------------+--------------+\n",
      "|  1.73634e-05 | -0.000309418 |  9.47404e-06 |\n",
      "+--------------+--------------+--------------+\n"
     ]
    }
   ],
   "source": [
    "print(tabulate(table, headers, tablefmt=\"grid\"))"
   ]
  },
  {
   "cell_type": "code",
   "execution_count": 34,
   "id": "0cmywGt-HRq3",
   "metadata": {
    "executionInfo": {
     "elapsed": 4,
     "status": "ok",
     "timestamp": 1669500283537,
     "user": {
      "displayName": "I S",
      "userId": "07403076651589372897"
     },
     "user_tz": -180
    },
    "id": "0cmywGt-HRq3"
   },
   "outputs": [],
   "source": [
    "table = [(mean_squared_error(lasso_model.predict(x.reshape(-1, 1)), y), mean_squared_error(ridge_model.predict(x.reshape(-1, 1)), y), mean_squared_error(elastic_model.predict(x.reshape(-1, 1)), y))]\n",
    "headers = [\"Lasso\", \"Ridge\", \"ElasticNet\"]"
   ]
  },
  {
   "cell_type": "code",
   "execution_count": 35,
   "id": "TBfTJNJ6Hy8n",
   "metadata": {
    "colab": {
     "base_uri": "https://localhost:8080/"
    },
    "executionInfo": {
     "elapsed": 400,
     "status": "ok",
     "timestamp": 1669500284867,
     "user": {
      "displayName": "I S",
      "userId": "07403076651589372897"
     },
     "user_tz": -180
    },
    "id": "TBfTJNJ6Hy8n",
    "outputId": "bc2fa413-ed0d-45fc-8fac-e0bef27a8286"
   },
   "outputs": [
    {
     "data": {
      "text/plain": [
       "[(0.036438125118690774, 0.016634286988052624, 0.02154124512371991)]"
      ]
     },
     "execution_count": 35,
     "metadata": {},
     "output_type": "execute_result"
    }
   ],
   "source": [
    "table"
   ]
  },
  {
   "cell_type": "code",
   "execution_count": 36,
   "id": "mbb2peaAHxA2",
   "metadata": {
    "colab": {
     "base_uri": "https://localhost:8080/"
    },
    "executionInfo": {
     "elapsed": 302,
     "status": "ok",
     "timestamp": 1669500412750,
     "user": {
      "displayName": "I S",
      "userId": "07403076651589372897"
     },
     "user_tz": -180
    },
    "id": "mbb2peaAHxA2",
    "outputId": "b2108010-ad5b-4a67-fab1-199961034cba"
   },
   "outputs": [
    {
     "name": "stdout",
     "output_type": "stream",
     "text": [
      "+-----------+-----------+--------------+\n",
      "|                MSE                   |\n",
      "+-----------+-----------+--------------+\n",
      "|     Lasso |     Ridge |   ElasticNet |\n",
      "+===========+===========+==============+\n",
      "| 0.0364381 | 0.0166343 |    0.0215412 |\n",
      "+-----------+-----------+--------------+\n"
     ]
    }
   ],
   "source": [
    "print(\"+-----------+-----------+--------------+\")\n",
    "print(\"|                MSE                   |\")\n",
    "print(tabulate(table, headers, tablefmt=\"grid\"))"
   ]
  },
  {
   "cell_type": "markdown",
   "id": "f87bf9e5",
   "metadata": {
    "id": "f87bf9e5"
   },
   "source": [
    "## Задание 3."
   ]
  },
  {
   "cell_type": "markdown",
   "id": "259738a0",
   "metadata": {
    "id": "259738a0"
   },
   "source": [
    "Используя регуляризацию попытайтесь улучшить модель прогноза велотрафика из ЛР1."
   ]
  },
  {
   "cell_type": "code",
   "execution_count": 37,
   "id": "e9d2cc41",
   "metadata": {},
   "outputs": [],
   "source": [
    "gdd.download_file_from_google_drive(file_id='1giK9E6k8ctuuAUI12FfyDSKY0pm7o3vS',\n",
    "                                    dest_path='./data/BicycleWeather.csv')\n",
    "\n",
    "gdd.download_file_from_google_drive(file_id='1x2ewDiIPJT9dmRJ32QJ1lBF1_X4fomyh',\n",
    "                                    dest_path='./data/gas.csv')\n",
    "\n",
    "gdd.download_file_from_google_drive(file_id='1y4oQ_xFD_xjReGoeQbMkz5zbPrViBgma',\n",
    "                                    dest_path='./data/fremont-bridge.csv')"
   ]
  },
  {
   "cell_type": "code",
   "execution_count": 38,
   "id": "LafnEZ2r_QPz",
   "metadata": {
    "executionInfo": {
     "elapsed": 3267,
     "status": "ok",
     "timestamp": 1669500972593,
     "user": {
      "displayName": "I S",
      "userId": "07403076651589372897"
     },
     "user_tz": -180
    },
    "id": "LafnEZ2r_QPz"
   },
   "outputs": [],
   "source": [
    "fremont_bridge_df = pd.read_csv(\"./data/fremont-bridge.csv\", parse_dates=['Date'])\n",
    "bicycle_weather_df = pd.read_csv(\"./data/BicycleWeather.csv\")"
   ]
  },
  {
   "cell_type": "code",
   "execution_count": 39,
   "id": "nBE7uHyN_UVZ",
   "metadata": {
    "executionInfo": {
     "elapsed": 391,
     "status": "ok",
     "timestamp": 1669500972979,
     "user": {
      "displayName": "I S",
      "userId": "07403076651589372897"
     },
     "user_tz": -180
    },
    "id": "nBE7uHyN_UVZ"
   },
   "outputs": [
    {
     "name": "stderr",
     "output_type": "stream",
     "text": [
      "/tmp/ipykernel_22869/908975267.py:1: FutureWarning: The default value of numeric_only in DataFrameGroupBy.sum is deprecated. In a future version, numeric_only will default to False. Either specify numeric_only or select only columns which should be valid for the function.\n",
      "  fremont_bridge_df = fremont_bridge_df.groupby(fremont_bridge_df['Date'].dt.strftime('%Y%m%d')).sum()\n"
     ]
    }
   ],
   "source": [
    "fremont_bridge_df = fremont_bridge_df.groupby(fremont_bridge_df['Date'].dt.strftime('%Y%m%d')).sum()"
   ]
  },
  {
   "cell_type": "code",
   "execution_count": 40,
   "id": "l557j-CT_UzK",
   "metadata": {
    "executionInfo": {
     "elapsed": 8,
     "status": "ok",
     "timestamp": 1669500972980,
     "user": {
      "displayName": "I S",
      "userId": "07403076651589372897"
     },
     "user_tz": -180
    },
    "id": "l557j-CT_UzK"
   },
   "outputs": [],
   "source": [
    "fremont_bridge_df['DATE'] = fremont_bridge_df.index.astype('int64')"
   ]
  },
  {
   "cell_type": "code",
   "execution_count": 41,
   "id": "fQslaCyO_Uwt",
   "metadata": {
    "executionInfo": {
     "elapsed": 8,
     "status": "ok",
     "timestamp": 1669500972980,
     "user": {
      "displayName": "I S",
      "userId": "07403076651589372897"
     },
     "user_tz": -180
    },
    "id": "fQslaCyO_Uwt"
   },
   "outputs": [],
   "source": [
    "bicycle_weather_df = bicycle_weather_df.drop(['STATION', 'STATION_NAME'], axis=1)\n",
    "bicycle_weather_df = bicycle_weather_df.merge(fremont_bridge_df, how='left', on='DATE')"
   ]
  },
  {
   "cell_type": "code",
   "execution_count": 42,
   "id": "a4SGR3Kn_UtN",
   "metadata": {
    "executionInfo": {
     "elapsed": 12,
     "status": "ok",
     "timestamp": 1669500974073,
     "user": {
      "displayName": "I S",
      "userId": "07403076651589372897"
     },
     "user_tz": -180
    },
    "id": "a4SGR3Kn_UtN"
   },
   "outputs": [],
   "source": [
    "bicycle_weather_df = bicycle_weather_df.replace(-9999, 0)"
   ]
  },
  {
   "cell_type": "code",
   "execution_count": 43,
   "id": "Ixjqy3rm_bR0",
   "metadata": {
    "executionInfo": {
     "elapsed": 9,
     "status": "ok",
     "timestamp": 1669500974905,
     "user": {
      "displayName": "I S",
      "userId": "07403076651589372897"
     },
     "user_tz": -180
    },
    "id": "Ixjqy3rm_bR0"
   },
   "outputs": [],
   "source": [
    "bicycle_weather_df['TDIF'] = bicycle_weather_df['TMAX'] - bicycle_weather_df['TMIN']\n",
    "bicycle_weather_df['WT13x01'] = bicycle_weather_df['WT13'] + bicycle_weather_df['WT01']\n",
    "\n",
    "bicycle_weather_df = bicycle_weather_df.dropna()"
   ]
  },
  {
   "cell_type": "code",
   "execution_count": 44,
   "id": "IkbsjPNE_ddA",
   "metadata": {
    "executionInfo": {
     "elapsed": 7,
     "status": "ok",
     "timestamp": 1669500975649,
     "user": {
      "displayName": "I S",
      "userId": "07403076651589372897"
     },
     "user_tz": -180
    },
    "id": "IkbsjPNE_ddA"
   },
   "outputs": [],
   "source": [
    "bicycle_weather_df[\"TARGET\"] = bicycle_weather_df[\"West\"] + bicycle_weather_df[\"East\"]"
   ]
  },
  {
   "cell_type": "code",
   "execution_count": 45,
   "id": "QVfIzG-KAhlT",
   "metadata": {
    "colab": {
     "base_uri": "https://localhost:8080/",
     "height": 424
    },
    "executionInfo": {
     "elapsed": 377,
     "status": "ok",
     "timestamp": 1669500977315,
     "user": {
      "displayName": "I S",
      "userId": "07403076651589372897"
     },
     "user_tz": -180
    },
    "id": "QVfIzG-KAhlT",
    "outputId": "7da359f3-1f76-468a-e9dc-42c34eeab8b6"
   },
   "outputs": [
    {
     "data": {
      "text/html": [
       "<div>\n",
       "<style scoped>\n",
       "    .dataframe tbody tr th:only-of-type {\n",
       "        vertical-align: middle;\n",
       "    }\n",
       "\n",
       "    .dataframe tbody tr th {\n",
       "        vertical-align: top;\n",
       "    }\n",
       "\n",
       "    .dataframe thead th {\n",
       "        text-align: right;\n",
       "    }\n",
       "</style>\n",
       "<table border=\"1\" class=\"dataframe\">\n",
       "  <thead>\n",
       "    <tr style=\"text-align: right;\">\n",
       "      <th></th>\n",
       "      <th>DATE</th>\n",
       "      <th>PRCP</th>\n",
       "      <th>SNWD</th>\n",
       "      <th>SNOW</th>\n",
       "      <th>TMAX</th>\n",
       "      <th>TMIN</th>\n",
       "      <th>AWND</th>\n",
       "      <th>WDF2</th>\n",
       "      <th>WDF5</th>\n",
       "      <th>WSF2</th>\n",
       "      <th>...</th>\n",
       "      <th>WT13</th>\n",
       "      <th>WT16</th>\n",
       "      <th>WT08</th>\n",
       "      <th>WT18</th>\n",
       "      <th>WT03</th>\n",
       "      <th>West</th>\n",
       "      <th>East</th>\n",
       "      <th>TDIF</th>\n",
       "      <th>WT13x01</th>\n",
       "      <th>TARGET</th>\n",
       "    </tr>\n",
       "  </thead>\n",
       "  <tbody>\n",
       "    <tr>\n",
       "      <th>276</th>\n",
       "      <td>20121003</td>\n",
       "      <td>0</td>\n",
       "      <td>0</td>\n",
       "      <td>0</td>\n",
       "      <td>189</td>\n",
       "      <td>78</td>\n",
       "      <td>73</td>\n",
       "      <td>10</td>\n",
       "      <td>20</td>\n",
       "      <td>103</td>\n",
       "      <td>...</td>\n",
       "      <td>0</td>\n",
       "      <td>0</td>\n",
       "      <td>0</td>\n",
       "      <td>0</td>\n",
       "      <td>0</td>\n",
       "      <td>1760.0</td>\n",
       "      <td>1761.0</td>\n",
       "      <td>111</td>\n",
       "      <td>0</td>\n",
       "      <td>3521.0</td>\n",
       "    </tr>\n",
       "    <tr>\n",
       "      <th>277</th>\n",
       "      <td>20121004</td>\n",
       "      <td>0</td>\n",
       "      <td>0</td>\n",
       "      <td>0</td>\n",
       "      <td>189</td>\n",
       "      <td>83</td>\n",
       "      <td>65</td>\n",
       "      <td>20</td>\n",
       "      <td>20</td>\n",
       "      <td>94</td>\n",
       "      <td>...</td>\n",
       "      <td>0</td>\n",
       "      <td>0</td>\n",
       "      <td>0</td>\n",
       "      <td>0</td>\n",
       "      <td>0</td>\n",
       "      <td>1708.0</td>\n",
       "      <td>1767.0</td>\n",
       "      <td>106</td>\n",
       "      <td>0</td>\n",
       "      <td>3475.0</td>\n",
       "    </tr>\n",
       "    <tr>\n",
       "      <th>278</th>\n",
       "      <td>20121005</td>\n",
       "      <td>0</td>\n",
       "      <td>0</td>\n",
       "      <td>0</td>\n",
       "      <td>217</td>\n",
       "      <td>89</td>\n",
       "      <td>57</td>\n",
       "      <td>360</td>\n",
       "      <td>360</td>\n",
       "      <td>80</td>\n",
       "      <td>...</td>\n",
       "      <td>0</td>\n",
       "      <td>0</td>\n",
       "      <td>0</td>\n",
       "      <td>0</td>\n",
       "      <td>0</td>\n",
       "      <td>1558.0</td>\n",
       "      <td>1590.0</td>\n",
       "      <td>128</td>\n",
       "      <td>0</td>\n",
       "      <td>3148.0</td>\n",
       "    </tr>\n",
       "    <tr>\n",
       "      <th>279</th>\n",
       "      <td>20121006</td>\n",
       "      <td>0</td>\n",
       "      <td>0</td>\n",
       "      <td>0</td>\n",
       "      <td>239</td>\n",
       "      <td>78</td>\n",
       "      <td>51</td>\n",
       "      <td>20</td>\n",
       "      <td>20</td>\n",
       "      <td>76</td>\n",
       "      <td>...</td>\n",
       "      <td>0</td>\n",
       "      <td>0</td>\n",
       "      <td>0</td>\n",
       "      <td>0</td>\n",
       "      <td>0</td>\n",
       "      <td>1080.0</td>\n",
       "      <td>926.0</td>\n",
       "      <td>161</td>\n",
       "      <td>0</td>\n",
       "      <td>2006.0</td>\n",
       "    </tr>\n",
       "    <tr>\n",
       "      <th>280</th>\n",
       "      <td>20121007</td>\n",
       "      <td>0</td>\n",
       "      <td>0</td>\n",
       "      <td>0</td>\n",
       "      <td>239</td>\n",
       "      <td>78</td>\n",
       "      <td>13</td>\n",
       "      <td>30</td>\n",
       "      <td>10</td>\n",
       "      <td>54</td>\n",
       "      <td>...</td>\n",
       "      <td>0</td>\n",
       "      <td>0</td>\n",
       "      <td>0</td>\n",
       "      <td>0</td>\n",
       "      <td>0</td>\n",
       "      <td>1191.0</td>\n",
       "      <td>951.0</td>\n",
       "      <td>161</td>\n",
       "      <td>0</td>\n",
       "      <td>2142.0</td>\n",
       "    </tr>\n",
       "    <tr>\n",
       "      <th>...</th>\n",
       "      <td>...</td>\n",
       "      <td>...</td>\n",
       "      <td>...</td>\n",
       "      <td>...</td>\n",
       "      <td>...</td>\n",
       "      <td>...</td>\n",
       "      <td>...</td>\n",
       "      <td>...</td>\n",
       "      <td>...</td>\n",
       "      <td>...</td>\n",
       "      <td>...</td>\n",
       "      <td>...</td>\n",
       "      <td>...</td>\n",
       "      <td>...</td>\n",
       "      <td>...</td>\n",
       "      <td>...</td>\n",
       "      <td>...</td>\n",
       "      <td>...</td>\n",
       "      <td>...</td>\n",
       "      <td>...</td>\n",
       "      <td>...</td>\n",
       "    </tr>\n",
       "    <tr>\n",
       "      <th>1335</th>\n",
       "      <td>20150828</td>\n",
       "      <td>5</td>\n",
       "      <td>0</td>\n",
       "      <td>0</td>\n",
       "      <td>233</td>\n",
       "      <td>156</td>\n",
       "      <td>26</td>\n",
       "      <td>230</td>\n",
       "      <td>240</td>\n",
       "      <td>81</td>\n",
       "      <td>...</td>\n",
       "      <td>0</td>\n",
       "      <td>0</td>\n",
       "      <td>0</td>\n",
       "      <td>0</td>\n",
       "      <td>0</td>\n",
       "      <td>1300.0</td>\n",
       "      <td>1353.0</td>\n",
       "      <td>77</td>\n",
       "      <td>1</td>\n",
       "      <td>2653.0</td>\n",
       "    </tr>\n",
       "    <tr>\n",
       "      <th>1336</th>\n",
       "      <td>20150829</td>\n",
       "      <td>325</td>\n",
       "      <td>0</td>\n",
       "      <td>0</td>\n",
       "      <td>222</td>\n",
       "      <td>133</td>\n",
       "      <td>58</td>\n",
       "      <td>210</td>\n",
       "      <td>210</td>\n",
       "      <td>157</td>\n",
       "      <td>...</td>\n",
       "      <td>0</td>\n",
       "      <td>0</td>\n",
       "      <td>0</td>\n",
       "      <td>0</td>\n",
       "      <td>0</td>\n",
       "      <td>365.0</td>\n",
       "      <td>334.0</td>\n",
       "      <td>89</td>\n",
       "      <td>1</td>\n",
       "      <td>699.0</td>\n",
       "    </tr>\n",
       "    <tr>\n",
       "      <th>1337</th>\n",
       "      <td>20150830</td>\n",
       "      <td>102</td>\n",
       "      <td>0</td>\n",
       "      <td>0</td>\n",
       "      <td>200</td>\n",
       "      <td>128</td>\n",
       "      <td>47</td>\n",
       "      <td>200</td>\n",
       "      <td>200</td>\n",
       "      <td>89</td>\n",
       "      <td>...</td>\n",
       "      <td>0</td>\n",
       "      <td>0</td>\n",
       "      <td>0</td>\n",
       "      <td>0</td>\n",
       "      <td>0</td>\n",
       "      <td>672.0</td>\n",
       "      <td>541.0</td>\n",
       "      <td>72</td>\n",
       "      <td>1</td>\n",
       "      <td>1213.0</td>\n",
       "    </tr>\n",
       "    <tr>\n",
       "      <th>1338</th>\n",
       "      <td>20150831</td>\n",
       "      <td>0</td>\n",
       "      <td>0</td>\n",
       "      <td>0</td>\n",
       "      <td>189</td>\n",
       "      <td>161</td>\n",
       "      <td>58</td>\n",
       "      <td>210</td>\n",
       "      <td>210</td>\n",
       "      <td>112</td>\n",
       "      <td>...</td>\n",
       "      <td>0</td>\n",
       "      <td>0</td>\n",
       "      <td>0</td>\n",
       "      <td>0</td>\n",
       "      <td>0</td>\n",
       "      <td>1310.0</td>\n",
       "      <td>1513.0</td>\n",
       "      <td>28</td>\n",
       "      <td>0</td>\n",
       "      <td>2823.0</td>\n",
       "    </tr>\n",
       "    <tr>\n",
       "      <th>1339</th>\n",
       "      <td>20150901</td>\n",
       "      <td>58</td>\n",
       "      <td>0</td>\n",
       "      <td>0</td>\n",
       "      <td>194</td>\n",
       "      <td>139</td>\n",
       "      <td>0</td>\n",
       "      <td>0</td>\n",
       "      <td>0</td>\n",
       "      <td>0</td>\n",
       "      <td>...</td>\n",
       "      <td>0</td>\n",
       "      <td>0</td>\n",
       "      <td>0</td>\n",
       "      <td>0</td>\n",
       "      <td>0</td>\n",
       "      <td>1393.0</td>\n",
       "      <td>1483.0</td>\n",
       "      <td>55</td>\n",
       "      <td>0</td>\n",
       "      <td>2876.0</td>\n",
       "    </tr>\n",
       "  </tbody>\n",
       "</table>\n",
       "<p>1064 rows × 29 columns</p>\n",
       "</div>"
      ],
      "text/plain": [
       "          DATE  PRCP  SNWD  SNOW  TMAX  TMIN  AWND  WDF2  WDF5  WSF2  ...  \\\n",
       "276   20121003     0     0     0   189    78    73    10    20   103  ...   \n",
       "277   20121004     0     0     0   189    83    65    20    20    94  ...   \n",
       "278   20121005     0     0     0   217    89    57   360   360    80  ...   \n",
       "279   20121006     0     0     0   239    78    51    20    20    76  ...   \n",
       "280   20121007     0     0     0   239    78    13    30    10    54  ...   \n",
       "...        ...   ...   ...   ...   ...   ...   ...   ...   ...   ...  ...   \n",
       "1335  20150828     5     0     0   233   156    26   230   240    81  ...   \n",
       "1336  20150829   325     0     0   222   133    58   210   210   157  ...   \n",
       "1337  20150830   102     0     0   200   128    47   200   200    89  ...   \n",
       "1338  20150831     0     0     0   189   161    58   210   210   112  ...   \n",
       "1339  20150901    58     0     0   194   139     0     0     0     0  ...   \n",
       "\n",
       "      WT13  WT16  WT08  WT18  WT03    West    East  TDIF  WT13x01  TARGET  \n",
       "276      0     0     0     0     0  1760.0  1761.0   111        0  3521.0  \n",
       "277      0     0     0     0     0  1708.0  1767.0   106        0  3475.0  \n",
       "278      0     0     0     0     0  1558.0  1590.0   128        0  3148.0  \n",
       "279      0     0     0     0     0  1080.0   926.0   161        0  2006.0  \n",
       "280      0     0     0     0     0  1191.0   951.0   161        0  2142.0  \n",
       "...    ...   ...   ...   ...   ...     ...     ...   ...      ...     ...  \n",
       "1335     0     0     0     0     0  1300.0  1353.0    77        1  2653.0  \n",
       "1336     0     0     0     0     0   365.0   334.0    89        1   699.0  \n",
       "1337     0     0     0     0     0   672.0   541.0    72        1  1213.0  \n",
       "1338     0     0     0     0     0  1310.0  1513.0    28        0  2823.0  \n",
       "1339     0     0     0     0     0  1393.0  1483.0    55        0  2876.0  \n",
       "\n",
       "[1064 rows x 29 columns]"
      ]
     },
     "execution_count": 45,
     "metadata": {},
     "output_type": "execute_result"
    }
   ],
   "source": [
    "bicycle_weather_df"
   ]
  },
  {
   "cell_type": "code",
   "execution_count": 46,
   "id": "TQCgBj5EAfPP",
   "metadata": {
    "executionInfo": {
     "elapsed": 340,
     "status": "ok",
     "timestamp": 1669502469357,
     "user": {
      "displayName": "I S",
      "userId": "07403076651589372897"
     },
     "user_tz": -180
    },
    "id": "TQCgBj5EAfPP"
   },
   "outputs": [],
   "source": [
    "feature =['PRCP', 'TMAX', 'TMIN', 'WSF2', 'WT13x01', 'WT16']"
   ]
  },
  {
   "cell_type": "code",
   "execution_count": 47,
   "id": "VE4M_6QkC461",
   "metadata": {
    "executionInfo": {
     "elapsed": 3,
     "status": "ok",
     "timestamp": 1669502470211,
     "user": {
      "displayName": "I S",
      "userId": "07403076651589372897"
     },
     "user_tz": -180
    },
    "id": "VE4M_6QkC461"
   },
   "outputs": [],
   "source": [
    "X = bicycle_weather_df[feature]\n",
    "y = bicycle_weather_df['TARGET']\n",
    "X_train, X_test, y_train, y_test = train_test_split(X, y, test_size=0.3, random_state=42)"
   ]
  },
  {
   "cell_type": "code",
   "execution_count": 48,
   "id": "0z8z-GAxCWpB",
   "metadata": {
    "colab": {
     "base_uri": "https://localhost:8080/"
    },
    "executionInfo": {
     "elapsed": 276,
     "status": "ok",
     "timestamp": 1669502606402,
     "user": {
      "displayName": "I S",
      "userId": "07403076651589372897"
     },
     "user_tz": -180
    },
    "id": "0z8z-GAxCWpB",
    "outputId": "89f6033d-0094-478a-b984-a1b3c2f9da49"
   },
   "outputs": [
    {
     "data": {
      "text/html": [
       "<style>#sk-container-id-6 {color: black;background-color: white;}#sk-container-id-6 pre{padding: 0;}#sk-container-id-6 div.sk-toggleable {background-color: white;}#sk-container-id-6 label.sk-toggleable__label {cursor: pointer;display: block;width: 100%;margin-bottom: 0;padding: 0.3em;box-sizing: border-box;text-align: center;}#sk-container-id-6 label.sk-toggleable__label-arrow:before {content: \"▸\";float: left;margin-right: 0.25em;color: #696969;}#sk-container-id-6 label.sk-toggleable__label-arrow:hover:before {color: black;}#sk-container-id-6 div.sk-estimator:hover label.sk-toggleable__label-arrow:before {color: black;}#sk-container-id-6 div.sk-toggleable__content {max-height: 0;max-width: 0;overflow: hidden;text-align: left;background-color: #f0f8ff;}#sk-container-id-6 div.sk-toggleable__content pre {margin: 0.2em;color: black;border-radius: 0.25em;background-color: #f0f8ff;}#sk-container-id-6 input.sk-toggleable__control:checked~div.sk-toggleable__content {max-height: 200px;max-width: 100%;overflow: auto;}#sk-container-id-6 input.sk-toggleable__control:checked~label.sk-toggleable__label-arrow:before {content: \"▾\";}#sk-container-id-6 div.sk-estimator input.sk-toggleable__control:checked~label.sk-toggleable__label {background-color: #d4ebff;}#sk-container-id-6 div.sk-label input.sk-toggleable__control:checked~label.sk-toggleable__label {background-color: #d4ebff;}#sk-container-id-6 input.sk-hidden--visually {border: 0;clip: rect(1px 1px 1px 1px);clip: rect(1px, 1px, 1px, 1px);height: 1px;margin: -1px;overflow: hidden;padding: 0;position: absolute;width: 1px;}#sk-container-id-6 div.sk-estimator {font-family: monospace;background-color: #f0f8ff;border: 1px dotted black;border-radius: 0.25em;box-sizing: border-box;margin-bottom: 0.5em;}#sk-container-id-6 div.sk-estimator:hover {background-color: #d4ebff;}#sk-container-id-6 div.sk-parallel-item::after {content: \"\";width: 100%;border-bottom: 1px solid gray;flex-grow: 1;}#sk-container-id-6 div.sk-label:hover label.sk-toggleable__label {background-color: #d4ebff;}#sk-container-id-6 div.sk-serial::before {content: \"\";position: absolute;border-left: 1px solid gray;box-sizing: border-box;top: 0;bottom: 0;left: 50%;z-index: 0;}#sk-container-id-6 div.sk-serial {display: flex;flex-direction: column;align-items: center;background-color: white;padding-right: 0.2em;padding-left: 0.2em;position: relative;}#sk-container-id-6 div.sk-item {position: relative;z-index: 1;}#sk-container-id-6 div.sk-parallel {display: flex;align-items: stretch;justify-content: center;background-color: white;position: relative;}#sk-container-id-6 div.sk-item::before, #sk-container-id-6 div.sk-parallel-item::before {content: \"\";position: absolute;border-left: 1px solid gray;box-sizing: border-box;top: 0;bottom: 0;left: 50%;z-index: -1;}#sk-container-id-6 div.sk-parallel-item {display: flex;flex-direction: column;z-index: 1;position: relative;background-color: white;}#sk-container-id-6 div.sk-parallel-item:first-child::after {align-self: flex-end;width: 50%;}#sk-container-id-6 div.sk-parallel-item:last-child::after {align-self: flex-start;width: 50%;}#sk-container-id-6 div.sk-parallel-item:only-child::after {width: 0;}#sk-container-id-6 div.sk-dashed-wrapped {border: 1px dashed gray;margin: 0 0.4em 0.5em 0.4em;box-sizing: border-box;padding-bottom: 0.4em;background-color: white;}#sk-container-id-6 div.sk-label label {font-family: monospace;font-weight: bold;display: inline-block;line-height: 1.2em;}#sk-container-id-6 div.sk-label-container {text-align: center;}#sk-container-id-6 div.sk-container {/* jupyter's `normalize.less` sets `[hidden] { display: none; }` but bootstrap.min.css set `[hidden] { display: none !important; }` so we also need the `!important` here to be able to override the default hidden behavior on the sphinx rendered scikit-learn.org. See: https://github.com/scikit-learn/scikit-learn/issues/21755 */display: inline-block !important;position: relative;}#sk-container-id-6 div.sk-text-repr-fallback {display: none;}</style><div id=\"sk-container-id-6\" class=\"sk-top-container\"><div class=\"sk-text-repr-fallback\"><pre>Pipeline(steps=[(&#x27;polynomialfeatures&#x27;, PolynomialFeatures()),\n",
       "                (&#x27;ridge&#x27;, Ridge(alpha=1))])</pre><b>In a Jupyter environment, please rerun this cell to show the HTML representation or trust the notebook. <br />On GitHub, the HTML representation is unable to render, please try loading this page with nbviewer.org.</b></div><div class=\"sk-container\" hidden><div class=\"sk-item sk-dashed-wrapped\"><div class=\"sk-label-container\"><div class=\"sk-label sk-toggleable\"><input class=\"sk-toggleable__control sk-hidden--visually\" id=\"sk-estimator-id-16\" type=\"checkbox\" ><label for=\"sk-estimator-id-16\" class=\"sk-toggleable__label sk-toggleable__label-arrow\">Pipeline</label><div class=\"sk-toggleable__content\"><pre>Pipeline(steps=[(&#x27;polynomialfeatures&#x27;, PolynomialFeatures()),\n",
       "                (&#x27;ridge&#x27;, Ridge(alpha=1))])</pre></div></div></div><div class=\"sk-serial\"><div class=\"sk-item\"><div class=\"sk-estimator sk-toggleable\"><input class=\"sk-toggleable__control sk-hidden--visually\" id=\"sk-estimator-id-17\" type=\"checkbox\" ><label for=\"sk-estimator-id-17\" class=\"sk-toggleable__label sk-toggleable__label-arrow\">PolynomialFeatures</label><div class=\"sk-toggleable__content\"><pre>PolynomialFeatures()</pre></div></div></div><div class=\"sk-item\"><div class=\"sk-estimator sk-toggleable\"><input class=\"sk-toggleable__control sk-hidden--visually\" id=\"sk-estimator-id-18\" type=\"checkbox\" ><label for=\"sk-estimator-id-18\" class=\"sk-toggleable__label sk-toggleable__label-arrow\">Ridge</label><div class=\"sk-toggleable__content\"><pre>Ridge(alpha=1)</pre></div></div></div></div></div></div></div>"
      ],
      "text/plain": [
       "Pipeline(steps=[('polynomialfeatures', PolynomialFeatures()),\n",
       "                ('ridge', Ridge(alpha=1))])"
      ]
     },
     "execution_count": 48,
     "metadata": {},
     "output_type": "execute_result"
    }
   ],
   "source": [
    "log_reg = make_pipeline(PolynomialFeatures(degree=2), Ridge(alpha=1))\n",
    "log_reg.fit(X_train, y_train)"
   ]
  },
  {
   "cell_type": "code",
   "execution_count": 49,
   "id": "rqeekaPaE5n7",
   "metadata": {
    "colab": {
     "base_uri": "https://localhost:8080/"
    },
    "executionInfo": {
     "elapsed": 19,
     "status": "ok",
     "timestamp": 1669502606685,
     "user": {
      "displayName": "I S",
      "userId": "07403076651589372897"
     },
     "user_tz": -180
    },
    "id": "rqeekaPaE5n7",
    "outputId": "082d3d54-8294-4861-bf62-a3c907ed59d7"
   },
   "outputs": [
    {
     "data": {
      "text/plain": [
       "0.5619271099326122"
      ]
     },
     "execution_count": 49,
     "metadata": {},
     "output_type": "execute_result"
    }
   ],
   "source": [
    "log_reg.score(X_test, y_test)"
   ]
  },
  {
   "cell_type": "code",
   "execution_count": 50,
   "id": "gJE6jXLBFJ35",
   "metadata": {
    "executionInfo": {
     "elapsed": 20,
     "status": "ok",
     "timestamp": 1669502606692,
     "user": {
      "displayName": "I S",
      "userId": "07403076651589372897"
     },
     "user_tz": -180
    },
    "id": "gJE6jXLBFJ35"
   },
   "outputs": [],
   "source": [
    "y_pred = log_reg.predict(X_test)"
   ]
  },
  {
   "cell_type": "markdown",
   "id": "435ee4a6",
   "metadata": {
    "id": "435ee4a6"
   },
   "source": [
    "## Задание 4."
   ]
  },
  {
   "cell_type": "markdown",
   "id": "feacede3",
   "metadata": {
    "id": "feacede3"
   },
   "source": [
    "Постройте оптимальную модель для прогноза выплаты по страховке в зависимости от количества страховых кейсов.\n",
    "\n",
    "https://data.world/anujonthemove/auto-insurance-in-sweden"
   ]
  },
  {
   "cell_type": "code",
   "execution_count": 55,
   "id": "787c495d",
   "metadata": {},
   "outputs": [
    {
     "name": "stdout",
     "output_type": "stream",
     "text": [
      "Downloading 13AzC0RRY5NFFiU3FAO1bh9-E3z1_q3x4 into ./data/auto_insurance_sweden.csv... Done.\n"
     ]
    }
   ],
   "source": [
    "gdd.download_file_from_google_drive(file_id='13AzC0RRY5NFFiU3FAO1bh9-E3z1_q3x4',\n",
    "                                    dest_path='./data/auto_insurance_sweden.csv')"
   ]
  },
  {
   "cell_type": "code",
   "execution_count": 56,
   "id": "bXs2YPLOJipr",
   "metadata": {
    "executionInfo": {
     "elapsed": 273,
     "status": "ok",
     "timestamp": 1669502705281,
     "user": {
      "displayName": "I S",
      "userId": "07403076651589372897"
     },
     "user_tz": -180
    },
    "id": "bXs2YPLOJipr"
   },
   "outputs": [],
   "source": [
    "df = pd.read_csv('./data/auto_insurance_sweden.csv', header=None)"
   ]
  },
  {
   "cell_type": "code",
   "execution_count": 57,
   "id": "gDWQS0YfHd1V",
   "metadata": {
    "colab": {
     "base_uri": "https://localhost:8080/",
     "height": 424
    },
    "executionInfo": {
     "elapsed": 297,
     "status": "ok",
     "timestamp": 1669502724500,
     "user": {
      "displayName": "I S",
      "userId": "07403076651589372897"
     },
     "user_tz": -180
    },
    "id": "gDWQS0YfHd1V",
    "outputId": "0d725ee9-5b77-4d41-c413-b109e59afb4c"
   },
   "outputs": [
    {
     "data": {
      "text/html": [
       "<div>\n",
       "<style scoped>\n",
       "    .dataframe tbody tr th:only-of-type {\n",
       "        vertical-align: middle;\n",
       "    }\n",
       "\n",
       "    .dataframe tbody tr th {\n",
       "        vertical-align: top;\n",
       "    }\n",
       "\n",
       "    .dataframe thead th {\n",
       "        text-align: right;\n",
       "    }\n",
       "</style>\n",
       "<table border=\"1\" class=\"dataframe\">\n",
       "  <thead>\n",
       "    <tr style=\"text-align: right;\">\n",
       "      <th></th>\n",
       "      <th>0</th>\n",
       "      <th>1</th>\n",
       "    </tr>\n",
       "  </thead>\n",
       "  <tbody>\n",
       "    <tr>\n",
       "      <th>0</th>\n",
       "      <td>108</td>\n",
       "      <td>392.5</td>\n",
       "    </tr>\n",
       "    <tr>\n",
       "      <th>1</th>\n",
       "      <td>19</td>\n",
       "      <td>46.2</td>\n",
       "    </tr>\n",
       "    <tr>\n",
       "      <th>2</th>\n",
       "      <td>13</td>\n",
       "      <td>15.7</td>\n",
       "    </tr>\n",
       "    <tr>\n",
       "      <th>3</th>\n",
       "      <td>124</td>\n",
       "      <td>422.2</td>\n",
       "    </tr>\n",
       "    <tr>\n",
       "      <th>4</th>\n",
       "      <td>40</td>\n",
       "      <td>119.4</td>\n",
       "    </tr>\n",
       "    <tr>\n",
       "      <th>...</th>\n",
       "      <td>...</td>\n",
       "      <td>...</td>\n",
       "    </tr>\n",
       "    <tr>\n",
       "      <th>58</th>\n",
       "      <td>9</td>\n",
       "      <td>87.4</td>\n",
       "    </tr>\n",
       "    <tr>\n",
       "      <th>59</th>\n",
       "      <td>31</td>\n",
       "      <td>209.8</td>\n",
       "    </tr>\n",
       "    <tr>\n",
       "      <th>60</th>\n",
       "      <td>14</td>\n",
       "      <td>95.5</td>\n",
       "    </tr>\n",
       "    <tr>\n",
       "      <th>61</th>\n",
       "      <td>53</td>\n",
       "      <td>244.6</td>\n",
       "    </tr>\n",
       "    <tr>\n",
       "      <th>62</th>\n",
       "      <td>26</td>\n",
       "      <td>187.5</td>\n",
       "    </tr>\n",
       "  </tbody>\n",
       "</table>\n",
       "<p>63 rows × 2 columns</p>\n",
       "</div>"
      ],
      "text/plain": [
       "      0      1\n",
       "0   108  392.5\n",
       "1    19   46.2\n",
       "2    13   15.7\n",
       "3   124  422.2\n",
       "4    40  119.4\n",
       "..  ...    ...\n",
       "58    9   87.4\n",
       "59   31  209.8\n",
       "60   14   95.5\n",
       "61   53  244.6\n",
       "62   26  187.5\n",
       "\n",
       "[63 rows x 2 columns]"
      ]
     },
     "execution_count": 57,
     "metadata": {},
     "output_type": "execute_result"
    }
   ],
   "source": [
    "df"
   ]
  },
  {
   "cell_type": "code",
   "execution_count": 58,
   "id": "Q_Y1_CboP4BN",
   "metadata": {
    "executionInfo": {
     "elapsed": 321,
     "status": "ok",
     "timestamp": 1669502706911,
     "user": {
      "displayName": "I S",
      "userId": "07403076651589372897"
     },
     "user_tz": -180
    },
    "id": "Q_Y1_CboP4BN"
   },
   "outputs": [],
   "source": [
    "X = df[0]\n",
    "y = df[1]"
   ]
  },
  {
   "cell_type": "code",
   "execution_count": 59,
   "id": "s14p9gEcNgut",
   "metadata": {
    "colab": {
     "base_uri": "https://localhost:8080/",
     "height": 282
    },
    "executionInfo": {
     "elapsed": 437,
     "status": "ok",
     "timestamp": 1669502708693,
     "user": {
      "displayName": "I S",
      "userId": "07403076651589372897"
     },
     "user_tz": -180
    },
    "id": "s14p9gEcNgut",
    "outputId": "b0430df2-00c9-4018-a868-79ecfcad7184"
   },
   "outputs": [
    {
     "data": {
      "text/plain": [
       "<matplotlib.collections.PathCollection at 0x7f446161b610>"
      ]
     },
     "execution_count": 59,
     "metadata": {},
     "output_type": "execute_result"
    },
    {
     "data": {
      "image/png": "[encoded data removed]",
      "text/plain": [
       "<Figure size 640x480 with 1 Axes>"
      ]
     },
     "metadata": {},
     "output_type": "display_data"
    }
   ],
   "source": [
    "plt.scatter(X, y)"
   ]
  },
  {
   "cell_type": "code",
   "execution_count": 60,
   "id": "NN2yw8BJN5jx",
   "metadata": {
    "colab": {
     "base_uri": "https://localhost:8080/",
     "height": 265
    },
    "executionInfo": {
     "elapsed": 34,
     "status": "ok",
     "timestamp": 1669502842899,
     "user": {
      "displayName": "I S",
      "userId": "07403076651589372897"
     },
     "user_tz": -180
    },
    "id": "NN2yw8BJN5jx",
    "outputId": "4d9df5a8-9e9d-448c-8aae-8d38ed69524c"
   },
   "outputs": [
    {
     "data": {
      "image/png": "[encoded data removed]",
      "text/plain": [
       "<Figure size 640x480 with 1 Axes>"
      ]
     },
     "metadata": {},
     "output_type": "display_data"
    }
   ],
   "source": [
    "model = Ridge()\n",
    "model.fit(np.array(X).reshape(-1, 1), y)\n",
    "y_pred = model.predict(np.array(X).reshape(-1, 1))\n",
    "\n",
    "plt.scatter(X, y)\n",
    "plt.plot(X, y_pred, color=\"red\")\n",
    "plt.show()"
   ]
  },
  {
   "cell_type": "code",
   "execution_count": null,
   "id": "91a8iM4lHnxi",
   "metadata": {
    "id": "91a8iM4lHnxi"
   },
   "outputs": [],
   "source": []
  },
  {
   "cell_type": "code",
   "execution_count": null,
   "id": "1cc7bb84",
   "metadata": {},
   "outputs": [],
   "source": []
  },
  {
   "cell_type": "code",
   "execution_count": null,
   "id": "53a1421a",
   "metadata": {},
   "outputs": [],
   "source": []
  }
 ],
 "metadata": {
  "colab": {
   "provenance": []
  },
  "kernelspec": {
   "display_name": "Python 3 (ipykernel)",
   "language": "python",
   "name": "python3"
  },
  "language_info": {
   "codemirror_mode": {
    "name": "ipython",
    "version": 3
   },
   "file_extension": ".py",
   "mimetype": "text/x-python",
   "name": "python",
   "nbconvert_exporter": "python",
   "pygments_lexer": "ipython3",
   "version": "3.10.6"
  }
 },
 "nbformat": 4,
 "nbformat_minor": 5
}
